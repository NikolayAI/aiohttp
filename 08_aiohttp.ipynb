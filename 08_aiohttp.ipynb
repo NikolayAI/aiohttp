{
  "cells": [
    {
      "cell_type": "markdown",
      "metadata": {
        "id": "view-in-github",
        "colab_type": "text"
      },
      "source": [
        "<a href=\"https://colab.research.google.com/github/NikolayAI/aiohttp/blob/main/08_aiohttp.ipynb\" target=\"_parent\"><img src=\"https://colab.research.google.com/assets/colab-badge.svg\" alt=\"Open In Colab\"/></a>"
      ]
    },
    {
      "cell_type": "code",
      "source": [
        "%pip install aiohttp"
      ],
      "metadata": {
        "id": "hnci_9-mHyan",
        "outputId": "b7b0b8ef-502e-4d4a-83b5-c0f3bdf6b61c",
        "colab": {
          "base_uri": "https://localhost:8080/"
        }
      },
      "execution_count": 34,
      "outputs": [
        {
          "output_type": "stream",
          "name": "stdout",
          "text": [
            "Requirement already satisfied: aiohttp in /usr/local/lib/python3.11/dist-packages (3.11.15)\n",
            "Requirement already satisfied: aiohappyeyeballs>=2.3.0 in /usr/local/lib/python3.11/dist-packages (from aiohttp) (2.6.1)\n",
            "Requirement already satisfied: aiosignal>=1.1.2 in /usr/local/lib/python3.11/dist-packages (from aiohttp) (1.3.2)\n",
            "Requirement already satisfied: attrs>=17.3.0 in /usr/local/lib/python3.11/dist-packages (from aiohttp) (25.3.0)\n",
            "Requirement already satisfied: frozenlist>=1.1.1 in /usr/local/lib/python3.11/dist-packages (from aiohttp) (1.5.0)\n",
            "Requirement already satisfied: multidict<7.0,>=4.5 in /usr/local/lib/python3.11/dist-packages (from aiohttp) (6.2.0)\n",
            "Requirement already satisfied: propcache>=0.2.0 in /usr/local/lib/python3.11/dist-packages (from aiohttp) (0.3.1)\n",
            "Requirement already satisfied: yarl<2.0,>=1.17.0 in /usr/local/lib/python3.11/dist-packages (from aiohttp) (1.18.3)\n",
            "Requirement already satisfied: idna>=2.0 in /usr/local/lib/python3.11/dist-packages (from yarl<2.0,>=1.17.0->aiohttp) (3.10)\n"
          ]
        }
      ]
    },
    {
      "cell_type": "code",
      "source": [
        "import xml.etree.ElementTree as ET\n",
        "import aiohttp\n",
        "import asyncio\n",
        "import nest_asyncio\n",
        "from datetime import datetime\n",
        "\n",
        "BASE_INDEX = 20038.52\n",
        "\n",
        "async def fetch_quote(http_client, quotation):\n",
        "    exchange_url = f'https://iss.moex.com/iss/engines/stock/markets/shares/boards/TQBR/securities/{quotation}.xml'\n",
        "    async with http_client.get(exchange_url) as raw_quotations:\n",
        "        xml = await raw_quotations.text()\n",
        "        tree = ET.fromstring(xml)\n",
        "        for row in tree.findall(\".//row\"):\n",
        "            if 'LAST' in row.attrib:\n",
        "                return float(row.attrib['LAST'])\n",
        "        return None\n",
        "\n",
        "\n",
        "async def get_moexbc(quotations_data):\n",
        "    total_base = sum(data['base_capitalization'] for data in quotations_data.values())\n",
        "\n",
        "    divider = BASE_INDEX / total_base\n",
        "\n",
        "    async with aiohttp.ClientSession() as http_client:\n",
        "        current_caps = []\n",
        "\n",
        "        p = [fetch_quote(http_client, quotation) for quotation in quotations_data]\n",
        "\n",
        "        prices = await asyncio.gather(*p)\n",
        "\n",
        "        for quotation, price in zip(quotations_data, prices):\n",
        "            data = quotations_data[quotation]\n",
        "            data['weight'] = data['base_capitalization'] / total_base\n",
        "            data['last_price'] = price if price else 0.0\n",
        "            data['current_cap'] = data['base_capitalization'] / data['base_price'] * data['last_price'] if data['base_price'] != 0 else 0\n",
        "            current_caps.append(data['current_cap'])\n",
        "\n",
        "        current_caps_total = round(sum(current_caps), 2)\n",
        "\n",
        "        for i, (quotation, price) in enumerate(zip(quotations_data, prices)):\n",
        "            data = quotations_data[quotation]\n",
        "            print_current_caps_total = current_caps_total if i == 0 else \"\"\n",
        "            print_divider = round(divider,2) if i == 0 else \"\"\n",
        "            new_index = (print_divider * print_current_caps_total) if i == 0 else \"\"\n",
        "\n",
        "            if new_index: print(f\"Индекс: {new_index}\")\n",
        "\n",
        "\n",
        "async def main():\n",
        "    quotations_data = {\n",
        "        'CHMF': {'base_price': 1435.00, 'base_capitalization': 110.595},\n",
        "        'GAZP': {'base_price': 162.25, 'base_capitalization': 643.752},\n",
        "        'GMKN': {'base_price': 163.96, 'base_capitalization': 388.556},\n",
        "        'IRAO': {'base_price': 4.069, 'base_capitalization': 89.209},\n",
        "        'LKOH': {'base_price': 6911.50, 'base_capitalization': 772.998},\n",
        "        'MGNT': {'base_price': 7239.00, 'base_capitalization': 109.185},\n",
        "        'NLMK': {'base_price': 182.90, 'base_capitalization': 92.078},\n",
        "        'NVTK': {'base_price': 1484.00, 'base_capitalization': 189.247},\n",
        "        'PLZL': {'base_price': 10875.00, 'base_capitalization': 130.218},\n",
        "        'ROSN': {'base_price': 600.30, 'base_capitalization': 139.966},\n",
        "        'RUAL': {'base_price': 34.89, 'base_capitalization': 95.415},\n",
        "        'SBER': {'base_price': 276.00, 'base_capitalization': 701.917},\n",
        "        'SNGS': {'base_price': 28.215, 'base_capitalization': 171.632},\n",
        "        'TATN': {'base_price': 688.20, 'base_capitalization': 321.656},\n",
        "        'YDEX': {'base_price': 2611.0, 'base_capitalization': 83.5040}\n",
        "    }\n",
        "\n",
        "    print(\"Старт вычислений\")\n",
        "\n",
        "    start = datetime.now()\n",
        "\n",
        "    await get_moexbc(quotations_data)\n",
        "\n",
        "    calculation_time = (datetime.now() - start).total_seconds()\n",
        "\n",
        "    print(f\"Вычисления завершены: {calculation_time:.2f} секунд\")\n",
        "\n",
        "if __name__ == \"__main__\":\n",
        "    nest_asyncio.apply()\n",
        "    asyncio.run(main())"
      ],
      "metadata": {
        "id": "RDSPIBsCH1jq",
        "outputId": "7fe0e90d-19a8-4fd9-83c7-418fc532563a",
        "colab": {
          "base_uri": "https://localhost:8080/"
        }
      },
      "execution_count": 35,
      "outputs": [
        {
          "output_type": "stream",
          "name": "stdout",
          "text": [
            "Старт вычислений\n",
            "Индекс: 16526.968\n",
            "Вычисления завершены: 0.78 секунд\n"
          ]
        }
      ]
    }
  ],
  "metadata": {
    "colab": {
      "provenance": [],
      "include_colab_link": true
    },
    "kernelspec": {
      "display_name": "Python 3",
      "name": "python3"
    }
  },
  "nbformat": 4,
  "nbformat_minor": 0
}